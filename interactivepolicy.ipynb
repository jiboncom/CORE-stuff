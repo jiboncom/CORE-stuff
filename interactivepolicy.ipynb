{
 "cells": [
  {
   "cell_type": "markdown",
   "metadata": {},
   "source": [
    "<h1 style=\"color: #f05a5b; font-family: 'Trebuchet MS', 'Lucida Sans Unicode', sans-serif; font-weight: bold;\">\n",
    "    Experimenting with Inflation\n",
    "</h1>"
   ]
  },
  {
   "cell_type": "code",
   "execution_count": 1,
   "metadata": {},
   "outputs": [],
   "source": [
    "%matplotlib inline\n",
    "import ipywidgets as widgets\n",
    "import matplotlib.pyplot as plt\n",
    "import matplotlib.lines as mlines\n",
    "import os\n",
    "import pycel\n",
    "from pycel import ExcelCompiler\n",
    "import pandas as pd\n",
    "\n",
    "\n",
    "filename = r'simple simulator unemployment.xlsx'\n",
    "plt.style.use('seaborn-poster')"
   ]
  },
  {
   "cell_type": "code",
   "execution_count": 2,
   "metadata": {},
   "outputs": [
    {
     "name": "stderr",
     "output_type": "stream",
     "text": [
      "Initialized with cycles: True, while workbook says: False\n"
     ]
    }
   ],
   "source": [
    "excel = ExcelCompiler(filename=filename,cycles=True)"
   ]
  },
  {
   "cell_type": "code",
   "execution_count": 3,
   "metadata": {},
   "outputs": [],
   "source": [
    "shock_size = excel.evaluate('simulator!L7')\n",
    "no_policy = excel.evaluate('simulator!A1:J30')\n",
    "before_policy = excel.evaluate('simulator!A1:J6')\n",
    "after_policy = excel.evaluate('simulator!A1:J7')\n",
    "# to display use display(); for dataframe have to save and open with pandas"
   ]
  },
  {
   "cell_type": "code",
   "execution_count": 4,
   "metadata": {},
   "outputs": [],
   "source": [
    "def PlotStuff(exceloutputs:list, title, after = False, show=True, auto=False, legend=False):\n",
    "    '''Plots inflation and unemployment on side-by-side subplots'''\n",
    "    colourlist = ['b', 'grey', 'pink']\n",
    "    figs, axs = plt.subplots(1, 4, figsize=[24, 8])\n",
    "    for data in exceloutputs:\n",
    "        colour = colourlist[exceloutputs.index(data)]\n",
    "        if after:\n",
    "            axs[0].plot([data[i][0] for i in range(1, len(data)-1)], [data[i][4] for i in range(1, len(data)-1)], colour)\n",
    "            axs[1].plot([data[i][0] for i in range(1, len(data)-1)], [data[i][3] for i in range(1, len(data)-1)], colour)\n",
    "            axs[2].plot([data[i][0] for i in range(1, len(data)-1)], [data[i][-1] for i in range(1, len(data)-1)], colour)\n",
    "            axs[3].plot([data[i][0] for i in range(1, len(data)-2)], [data[i][-3] for i in range(1, len(data)-2)], colour)\n",
    "            axs[0].plot([data[-2][0], data[-1][0]], [data[-2][4], data[-1][4]], 'r')\n",
    "            axs[1].plot([data[-2][0], data[-1][0]], [data[-2][3], data[-1][3]], 'r')\n",
    "            axs[2].plot([data[-2][0], data[-1][0]], [data[-2][-1], data[-1][-1]], 'r')\n",
    "            axs[3].plot([data[-3][0], data[-2][0]], [data[-3][-3], data[-2][-3]], 'r')\n",
    "\n",
    "        else:\n",
    "            axs[0].plot([data[i][0] for i in range(1, len(data))], [data[i][4] for i in range(1, len(data))], colour)\n",
    "            axs[1].plot([data[i][0] for i in range(1, len(data))], [data[i][3] for i in range(1, len(data))], colour)\n",
    "            axs[2].plot([data[i][0] for i in range(1, len(data))], [data[i][-1] for i in range(1, len(data))], colour)\n",
    "            axs[3].plot([data[i][0] for i in range(1, len(data))], [data[i][-3] for i in range(1, len(data))], colour)\n",
    "            axs[0].plot(data[-1][0] + 1, data[-1][4])\n",
    "            axs[1].plot(data[-1][0] + 1, data[-1][3])\n",
    "            axs[2].plot(data[-1][0] + 1, data[-1][-1])\n",
    "    axs[0].set_title('Inflation')\n",
    "    axs[1].set_title('GDP')\n",
    "    axs[2].set_title('Unemployment')\n",
    "    axs[3].set_title('Real Interest Rate')\n",
    "    axs[0].set_xlabel('Period')\n",
    "    axs[1].set_xlabel('Period')\n",
    "    axs[2].set_xlabel('Period')\n",
    "    axs[3].set_xlabel('Period')\n",
    "\n",
    "    if not auto:\n",
    "        axs[0].set_ylim(bottom=1.5, top=8.5)\n",
    "        axs[1].set_ylim(bottom=93.5, top=100.5)\n",
    "        axs[2].set_ylim(bottom=0.04, top=0.11)\n",
    "        axs[3].set_ylim(bottom=0.5, top=7.5)\n",
    "\n",
    "\n",
    "    figs.suptitle(title, fontsize=16)\n",
    "    \n",
    "    if legend:\n",
    "        label1 = mlines.Line2D([], [], color='b', label='chosen props')\n",
    "        label2 = mlines.Line2D([], [], color='grey', label='benchmark props')\n",
    "        axs[3].legend(handles=[label1, label2], bbox_to_anchor=(1, 1), bbox_transform=figs.transFigure)\n",
    "\n",
    "    if show:\n",
    "        plt.show()\n",
    "    else:\n",
    "        return figs, axs\n",
    "\n",
    "def AppendtoPlot(figs, axs, new_excel):\n",
    "    axs[0].plot([new_excel[i][0] for i in range(1, len(new_excel))], [new_excel[i][4] for i in range(1, len(new_excel))])\n",
    "    axs[1].plot([new_excel[i][0] for i in range(1, len(new_excel))], [new_excel[i][3] for i in range(1, len(new_excel))])\n",
    "    axs[2].plot([new_excel[i][0] for i in range(1, len(new_excel))], [new_excel[i][-1] for i in range(1, len(new_excel))])\n",
    "    axs[3].plot([new_excel[i][0] for i in range(1, len(new_excel))], [new_excel[i][-3] for i in range(1, len(new_excel))])\n",
    "    return figs, axs\n",
    "    \n"
   ]
  },
  {
   "cell_type": "markdown",
   "metadata": {},
   "source": [
    "[video]"
   ]
  },
  {
   "cell_type": "markdown",
   "metadata": {},
   "source": [
    "Sint quis consequat id laborum aliqua duis dolor cupidatat minim reprehenderit deserunt qui. Et esse do incididunt eu ea deserunt. Tempor adipisicing quis culpa sunt dolore id consectetur cupidatat laborum nulla anim occaecat culpa. Et irure deserunt eu dolore labore laborum. Dolor et officia duis incididunt eiusmod cupidatat fugiat nulla.\n",
    "\n",
    "Duis exercitation commodo anim occaecat culpa anim minim qui sit occaecat eu excepteur magna. Deserunt anim nisi qui cupidatat laborum aliqua cupidatat pariatur. Ex labore duis mollit qui. Tempor minim proident ea elit aliquip. Irure id commodo fugiat reprehenderit aliquip fugiat ex officia sint ad veniam adipisicing. Velit quis ex laboris pariatur pariatur deserunt ea dolore labore aute quis. Adipisicing nostrud non reprehenderit aliqua ex ad reprehenderit amet voluptate cupidatat ad ullamco esse.\n",
    "\n",
    "Sunt esse quis sint consectetur. Eu est mollit voluptate ullamco qui. Cupidatat sint incididunt exercitation eu eiusmod aute occaecat voluptate in dolor duis exercitation anim. Lorem laborum mollit nulla minim nulla officia fugiat ex enim enim. Qui irure nostrud occaecat deserunt."
   ]
  },
  {
   "cell_type": "markdown",
   "metadata": {},
   "source": [
    "<h2 style=\"color: #f05a5b; font-family: 'Trebuchet MS', 'Lucida Sans Unicode', sans-serif; font-weight: bold;\">\n",
    "    No Policy\n",
    "</h2>"
   ]
  },
  {
   "cell_type": "markdown",
   "metadata": {},
   "source": [
    "<h3>Here is a non-interactive graph showing the effect of a permanent inflation shock when there is no change in monetary policy.  Needs aesthetics update. </h3>"
   ]
  },
  {
   "cell_type": "markdown",
   "metadata": {},
   "source": [
    "Elit dolor sunt exercitation incididunt cillum officia sint ullamco non nostrud mollit ea exercitation. Commodo reprehenderit quis culpa est minim duis sunt quis dolor dolore excepteur nostrud adipisicing nostrud. Exercitation cupidatat anim cupidatat amet. Id ea non elit veniam ut aute et fugiat. Dolore eu quis nisi nostrud enim occaecat ad deserunt irure velit fugiat aute nisi culpa."
   ]
  },
  {
   "cell_type": "code",
   "execution_count": 5,
   "metadata": {},
   "outputs": [
    {
     "data": {
      "image/png": "[encoded data removed]",
      "text/plain": [
       "<Figure size 864x432 with 1 Axes>"
      ]
     },
     "metadata": {
      "needs_background": "light"
     },
     "output_type": "display_data"
    }
   ],
   "source": [
    "fig, ax = plt.subplots(1, 1, figsize = [12, 6])\n",
    "ax.plot([no_policy[i][0] for i in range(1, len(no_policy))], [no_policy[i][4] for i in range(1, len(no_policy))])\n",
    "ax.set_title('Inflation with no monetary policy')\n",
    "ax.set_ylabel('Inflation %')\n",
    "ax.set_xlabel('Period')\n",
    "\n",
    "plt.show()"
   ]
  },
  {
   "cell_type": "markdown",
   "metadata": {},
   "source": [
    "Aliqua veniam incididunt exercitation Lorem exercitation commodo esse veniam duis amet veniam. Minim aute aute ad eu nulla pariatur officia enim sunt cillum mollit dolore anim. Quis amet veniam labore Lorem amet officia occaecat. Labore qui nulla ex adipisicing. Laboris commodo ex adipisicing consequat enim.\n",
    "\n",
    "Culpa deserunt excepteur irure anim excepteur dolore. Quis sint duis consectetur consectetur mollit quis amet ex elit adipisicing nisi. Do aliquip incididunt laboris ut. Excepteur eiusmod anim id ipsum.\n",
    "\n",
    "Deserunt nostrud enim do pariatur in pariatur. Laborum anim sit laborum veniam cupidatat voluptate nostrud non voluptate commodo veniam esse esse. Non amet sint ex nisi aute."
   ]
  },
  {
   "cell_type": "markdown",
   "metadata": {},
   "source": [
    "<h2 style=\"color: #f05a5b; font-family: 'Trebuchet MS', 'Lucida Sans Unicode', sans-serif; font-weight: bold;\">\n",
    "    Interactive Policy\n",
    "</h2>"
   ]
  },
  {
   "cell_type": "markdown",
   "metadata": {},
   "source": [
    "<h3>There's been a permanent inflation shock in period 5. Choose a real interest rate to see its effect - you should aim to stabilise inflation.</h3>"
   ]
  },
  {
   "cell_type": "code",
   "execution_count": 6,
   "metadata": {},
   "outputs": [
    {
     "data": {
      "application/vnd.jupyter.widget-view+json": {
       "model_id": "4ec6f29f912d47b78d43f4e795d35ec4",
       "version_major": 2,
       "version_minor": 0
      },
      "text/plain": [
       "Output(layout=Layout(border='2px solid gray', margin='0 0 0 0', padding='5px 5px 5px 5px'))"
      ]
     },
     "metadata": {},
     "output_type": "display_data"
    }
   ],
   "source": [
    "out = widgets.Output(layout={'border': '2px solid gray', 'padding': '5px 5px 5px 5px', 'margin': '0 0 0 0'})\n",
    "display(out)"
   ]
  },
  {
   "cell_type": "code",
   "execution_count": 7,
   "metadata": {},
   "outputs": [],
   "source": [
    "r = widgets.IntSlider(1, 1, 7)\n",
    "sub = widgets.Button(description='Submit')\n",
    "\n",
    "\n",
    "with out:\n",
    "    out.clear_output(wait=True)\n",
    "    display(r, sub)\n",
    "    # display(before_policy)\n",
    "    PlotStuff([before_policy], title='')\n",
    "\n",
    "\n",
    "def on_sub(b):\n",
    "    excel.evaluate('simulator!H6')\n",
    "    chosenrate = r.value\n",
    "    excel.set_value('simulator!H6', chosenrate)\n",
    "    excel.recalculate()\n",
    "    after_policy = excel.evaluate('simulator!A1:J7')\n",
    "    with out:\n",
    "        out.clear_output(wait=True)\n",
    "        display(r, sub)\n",
    "        print(f'chosen rate {chosenrate} - see below for its effects')\n",
    "        # display(excel.evaluate('simulator!H6'))\n",
    "        # display(after_policy)\n",
    "        PlotStuff([after_policy], title='', after=True)\n",
    "        if chosenrate == 4:\n",
    "            print('')\n",
    "            display(widgets.HTML('<h3>you stabilised inflation - congratulations. however, look at unemployment. ..........</h3>'))\n",
    "            display(widgets.HTML('<p>Sit eu sunt aliqua occaecat consectetur laboris ipsum quis veniam nostrud consectetur adipisicing. Culpa officia anim consequat exercitation consectetur laboris reprehenderit consequat culpa elit aliquip. Irure laboris sint ea sint voluptate minim nulla quis minim officia consectetur nulla velit. Id elit dolor quis irure amet do minim velit ad amet ea laboris.</p>'))\n",
    "            print()\n",
    "            print()\n",
    "        elif chosenrate == 1:\n",
    "            print('')\n",
    "            display(widgets.HTML('<h3>Unemployment is looking healthy - but inflation is still getting higher. This is because ......</h3>'))\n",
    "            display(widgets.HTML('<p>Esse ad deserunt deserunt sit non consequat ullamco nulla amet. Irure magna nostrud consequat ex pariatur ad aliqua tempor amet dolore et occaecat dolor. Officia non voluptate ex irure amet qui nulla quis fugiat voluptate tempor sint. Laborum anim officia proident duis esse enim officia do aliquip irure do. Reprehenderit et exercitation labore dolore magna ex dolor tempor proident tempor deserunt. Et eiusmod nisi ea esse qui aute et.</p>'))\n",
    "            print()\n",
    "            print()\n",
    "        elif 1 < chosenrate < 4:\n",
    "            print('')\n",
    "            display(widgets.HTML('<h3>Inflation is still getting higher, and meanwhile unemployment is getting worse too! this is because ..... </h3>'))\n",
    "            display(widgets.HTML('<p>Adipisicing ut nisi dolore mollit. Est fugiat do veniam sunt duis non aliqua irure aliqua fugiat commodo ut. Consectetur exercitation pariatur ullamco occaecat duis eiusmod est officia eiusmod. Sit ullamco magna est reprehenderit reprehenderit dolor do non aliquip magna. Incididunt ea tempor nulla est laborum. Exercitation Lorem ullamco in pariatur excepteur enim nulla.</p>'))\n",
    "            print()\n",
    "            print()\n",
    "        elif 4 < chosenrate:\n",
    "            print('')\n",
    "            display(widgets.HTML('<h3>Inflation is heading back down to equilibrium - but employment is tanking. ...........?</h3>'))\n",
    "            display(widgets.HTML('<p>Enim incididunt do veniam velit officia reprehenderit quis commodo. Excepteur voluptate nisi id reprehenderit ullamco proident qui enim voluptate mollit ea quis ipsum eu. Amet ullamco mollit in incididunt ullamco ipsum id id aliqua enim.</p>'))\n",
    "            print()\n",
    "            print()\n",
    "\n",
    "\n",
    "sub.on_click(on_sub)\n"
   ]
  },
  {
   "cell_type": "markdown",
   "metadata": {},
   "source": [
    "Consequat aliquip voluptate consequat ea occaecat dolore. Laborum eiusmod ex quis eu qui Lorem consectetur exercitation voluptate laboris quis occaecat irure. Eu sint adipisicing laborum incididunt. Ex labore irure tempor aute tempor aliquip nisi duis ipsum excepteur. Fugiat id mollit id commodo officia qui ea aliqua Lorem aute excepteur.\n",
    "\n",
    "Cillum officia occaecat nisi veniam eu. Exercitation do eiusmod et commodo ad est dolore aute. Proident irure deserunt dolor culpa occaecat officia sunt consectetur aliqua fugiat deserunt aliqua.\n",
    "\n",
    "Velit non Lorem cupidatat nostrud occaecat consectetur irure quis quis magna commodo ea. Officia sint irure quis exercitation in sint ad culpa laborum ullamco in do irure enim. Ea aute quis elit magna aliqua esse mollit. Amet veniam ex proident ea nulla cupidatat sit incididunt sit irure. Pariatur dolore ad ea non nostrud consectetur est nostrud qui est commodo fugiat.\n",
    "\n",
    "In aute occaecat ad cupidatat velit elit consequat deserunt amet proident. Veniam laborum enim sunt consectetur aliqua voluptate. Reprehenderit sunt commodo ut laboris voluptate dolor."
   ]
  },
  {
   "cell_type": "markdown",
   "metadata": {},
   "source": [
    "<h1 style=\"color: #f05a5b; font-family: 'Trebuchet MS', 'Lucida Sans Unicode', sans-serif; font-weight: bold;\">\n",
    "    How an inflation targeting CB gets inflation back to target\n",
    "</h1>"
   ]
  },
  {
   "cell_type": "markdown",
   "metadata": {},
   "source": [
    "<h3>Idea is to compare short run/long term benefits/costs of each approach, and realise costly recession is \"best\"</h3>"
   ]
  },
  {
   "cell_type": "code",
   "execution_count": 8,
   "metadata": {},
   "outputs": [
    {
     "name": "stderr",
     "output_type": "stream",
     "text": [
      "Initialized with cycles: True, while workbook says: False\n",
      "Initialized with cycles: True, while workbook says: False\n"
     ]
    }
   ],
   "source": [
    "excel1 = ExcelCompiler(filename=filename,cycles=True)\n",
    "excel1.evaluate('simulator!H6')\n",
    "excel1.set_value('simulator!H6', 1)\n",
    "excel1.recalculate()\n",
    "no_change_policy = excel1.evaluate('simulator!A1:J30')\n",
    "excel2 = ExcelCompiler(filename='simple sim endog cb.xlsx', cycles=True)\n",
    "timid_policy = excel2.evaluate('timid!A1:K30')\n",
    "optimal_policy = excel2.evaluate('optimal!A1:K30')\n"
   ]
  },
  {
   "cell_type": "code",
   "execution_count": 9,
   "metadata": {},
   "outputs": [
    {
     "data": {
      "application/vnd.jupyter.widget-view+json": {
       "model_id": "97c7449d00eb429f8ea8909e4ab0996a",
       "version_major": 2,
       "version_minor": 0
      },
      "text/plain": [
       "Output(layout=Layout(border='2px solid gray', margin='0 0 0 0', padding='5px 5px 5px 5px'))"
      ]
     },
     "metadata": {},
     "output_type": "display_data"
    }
   ],
   "source": [
    "out2 = widgets.Output(layout={'border': '2px solid gray', 'padding': '5px 5px 5px 5px', 'margin': '0 0 0 0'})\n",
    "display(out2)"
   ]
  },
  {
   "cell_type": "code",
   "execution_count": 10,
   "metadata": {},
   "outputs": [],
   "source": [
    "title = widgets.HTML('<h1> Comparing types of central banks </h1>')\n",
    "dropdown = widgets.Dropdown(options=['CB that wants to avoid higher unemployment despite equilibrium change',\n",
    " 'CB that slowly accepts change to unemployment', \n",
    " 'CB that accepts costly recession and unemployment below equilibrium to prioritise inflation'], value=None, layout={'width': 'max-content'}, description='')\n",
    "\n",
    "def get_plots(CB):\n",
    "    if CB == 'CB that wants to avoid higher unemployment despite equilibrium change':\n",
    "        PlotStuff([no_change_policy[:15]], title='CB that wants to avoid change to unemployment despite equilibrium change', after=False, auto=False)\n",
    "        display(widgets.HTML('<h2>Unchanging Policy is not sustainable</h2>'))\n",
    "        display(widgets.HTML('Minim elit velit veniam amet excepteur exercitation ea adipisicing Lorem sunt nulla irure cillum excepteur. Pariatur id anim duis quis ea commodo occaecat enim laboris id amet ad aliqua. Qui dolore ut sit culpa enim eu nulla eiusmod occaecat ipsum officia aute culpa. Nulla irure minim officia ea ex. Ullamco non ex id deserunt qui incididunt aute ex tempor ipsum irure. Qui exercitation mollit consectetur pariatur incididunt est fugiat non pariatur sit magna elit.'))\n",
    "    elif CB == 'CB that slowly accepts change to unemployment':\n",
    "        PlotStuff([timid_policy[:15]], title='CB that slowly accepts change to unemployment',after=False)\n",
    "        display(widgets.HTML('<h2>A slow response has short term benefits with a soft landing, at the expense of permanently high inflation</h2>'))\n",
    "        display(widgets.HTML('Minim elit velit veniam amet excepteur exercitation ea adipisicing Lorem sunt nulla irure cillum excepteur. Pariatur id anim duis quis ea commodo occaecat enim laboris id amet ad aliqua. Qui dolore ut sit culpa enim eu nulla eiusmod occaecat ipsum officia aute culpa. Nulla irure minim officia ea ex. Ullamco non ex id deserunt qui incididunt aute ex tempor ipsum irure. Qui exercitation mollit consectetur pariatur incididunt est fugiat non pariatur sit magna elit.'))\n",
    "    elif CB == 'CB that accepts costly recession and unemployment below equilibrium to prioritise inflation':\n",
    "        PlotStuff([optimal_policy[:15]], title='CB that accepts costly recession and unemployment below equilibrium to prioritise inflation', after=False)\n",
    "        display(widgets.HTML('<h2>A costly recession, engineered by the CB with high interest rates, brings inflation under control but could be </h2>'))\n",
    "        display(widgets.HTML('Minim elit velit veniam amet excepteur exercitation ea adipisicing Lorem sunt nulla irure cillum excepteur. Pariatur id anim duis quis ea commodo occaecat enim laboris id amet ad aliqua. Qui dolore ut sit culpa enim eu nulla eiusmod occaecat ipsum officia aute culpa. Nulla irure minim officia ea ex. Ullamco non ex id deserunt qui incididunt aute ex tempor ipsum irure. Qui exercitation mollit consectetur pariatur incididunt est fugiat non pariatur sit magna elit.'))\n",
    "    else:\n",
    "        display(widgets.HTML('<h3>Choose a CB behaviour from the Dropdown to see its performance, benefits and costs</h3>'))\n",
    "\n",
    "\n",
    "with out2:\n",
    "    out2.clear_output(wait=True)\n",
    "    display(title)\n",
    "    widgets.interact(get_plots, CB=dropdown)\n",
    "    # display(inter)\n",
    "    # PlotStuff(no_change_policy[:15], title='CB that wants to avoid change to unemployment despite equilibrium change', after=False)\n",
    "    # PlotStuff(timid_policy[:15], title='CB that slowly accepts change to unemployment',after=False)\n",
    "    # PlotStuff(optimal_policy[:15], title='CB that accepts costly recession and unemployment below equilibrium to prioritise inflation', after=False)\n"
   ]
  },
  {
   "cell_type": "markdown",
   "metadata": {},
   "source": [
    "Aliquip sit cillum tempor ea minim sit excepteur eu. Consectetur et ad nostrud eiusmod sit. Laboris eu aliquip nulla proident ad dolore ipsum proident irure mollit ullamco. Sint amet culpa excepteur deserunt sit officia. Exercitation occaecat deserunt do reprehenderit occaecat cillum ex minim consequat do.\n",
    "\n",
    "Nulla eiusmod anim magna commodo excepteur. Commodo culpa ut amet reprehenderit sunt sint. Pariatur Lorem voluptate ex labore velit anim occaecat culpa esse qui.\n",
    "\n",
    "Sit elit laborum culpa Lorem labore. Elit quis velit aliquip sint tempor irure occaecat consectetur ipsum nulla pariatur voluptate mollit. Ea in aliquip cupidatat ut nisi est. Mollit ea elit enim ea in nulla Lorem fugiat incididunt reprehenderit ipsum."
   ]
  },
  {
   "cell_type": "markdown",
   "metadata": {},
   "source": [
    "<h1 style=\"color: #f05a5b; font-family: 'Trebuchet MS', 'Lucida Sans Unicode', sans-serif; font-weight: bold;\">\n",
    "    Experimenting with Inflation Adversity\n",
    "</h1>"
   ]
  },
  {
   "cell_type": "markdown",
   "metadata": {},
   "source": [
    "<h3>Now that it's clear how a costly recession is necessary, we introduce CB beta and how inflation adversity affects CB behaviour. </h3>"
   ]
  },
  {
   "cell_type": "code",
   "execution_count": 11,
   "metadata": {},
   "outputs": [
    {
     "data": {
      "application/vnd.jupyter.widget-view+json": {
       "model_id": "e3b0f3e6d1b144ed91e6288ce8e5df04",
       "version_major": 2,
       "version_minor": 0
      },
      "text/plain": [
       "Output(layout=Layout(border='2px solid gray', margin='0 0 0 0', padding='5px 5px 5px 5px'))"
      ]
     },
     "metadata": {},
     "output_type": "display_data"
    },
    {
     "data": {
      "application/vnd.jupyter.widget-view+json": {
       "model_id": "1aab2caaee0d455c8e8d9406c9a99d5b",
       "version_major": 2,
       "version_minor": 0
      },
      "text/plain": [
       "Output()"
      ]
     },
     "metadata": {},
     "output_type": "display_data"
    },
    {
     "data": {
      "application/vnd.jupyter.widget-view+json": {
       "model_id": "ab7e4c489f20401cb655062099f53fa6",
       "version_major": 2,
       "version_minor": 0
      },
      "text/plain": [
       "Output()"
      ]
     },
     "metadata": {},
     "output_type": "display_data"
    }
   ],
   "source": [
    "out3 = widgets.Output(layout={'border': '2px solid gray', 'padding': '5px 5px 5px 5px', 'margin': '0 0 0 0'})\n",
    "display(out3)"
   ]
  },
  {
   "cell_type": "code",
   "execution_count": 23,
   "metadata": {},
   "outputs": [],
   "source": [
    "out3.clear_output()\n",
    "def betafunc(slider, show_benchmark):\n",
    "    # global figs, axs\n",
    "    excel2.evaluate('optimal!M3')\n",
    "    chosenrate = slider\n",
    "    excel2.set_value('optimal!M3', chosenrate)\n",
    "    excel2.recalculate()\n",
    "    after_policy = excel2.evaluate('optimal!A1:K30')\n",
    "    # with out3:\n",
    "    #     out3.clear_output(wait=True)\n",
    "    #     display(r2, sub2)\n",
    "    #     print(f'chosen rate {chosenrate} - see below for its effects')\n",
    "    #     # display(excel.evaluate('optimal!H6'))\n",
    "    #     # display(after_policy)\n",
    "    #     PlotStuff([optimal_policy, after_policy], title='', after=False, show=True)\n",
    "    #     # figs, axs = AppendtoPlot(figs, axs, after_policy)\n",
    "    #     # plt.show()\n",
    "    #     display(widgets.HTML('<h3>Officia do duis aute excepteur.</h3>'))\n",
    "    if show_benchmark:\n",
    "        PlotStuff([after_policy[:15], optimal_policy[:15]], title='', after=False, auto=False, legend=True)\n",
    "    else:\n",
    "        PlotStuff([after_policy[:15]], title='', after=False, auto=False)\n",
    "\n",
    "\n",
    "beta = widgets.FloatSlider(1, min=0.25, max=4, description='CB beta')\n",
    "benchmark = widgets.Checkbox(value=False, description='Show benchmark (beta=1)')\n",
    "outtest = widgets.interactive_output(betafunc, {'slider': beta, 'show_benchmark': benchmark})\n",
    "\n",
    "with out3:\n",
    "    out3.clear_output()\n",
    "    display(beta, benchmark, outtest)\n",
    "\n"
   ]
  },
  {
   "cell_type": "markdown",
   "metadata": {},
   "source": [
    "Non reprehenderit irure incididunt ut ullamco ea aliqua reprehenderit. Officia nulla duis anim ea qui in enim velit veniam velit est cupidatat non. Pariatur anim consectetur Lorem ad ea ipsum ex dolor aliqua cupidatat voluptate ut. Fugiat ex velit irure elit laboris nisi ex. Sint duis qui laborum voluptate nostrud ut nulla occaecat aute. Adipisicing sit excepteur incididunt adipisicing excepteur veniam fugiat cupidatat dolor. Adipisicing ipsum voluptate commodo anim.\n",
    "\n",
    "Cupidatat qui consequat elit aliqua aliquip non commodo deserunt mollit laboris. Sunt consequat id aliqua qui exercitation aliquip labore nostrud in commodo officia velit veniam. Non exercitation amet voluptate eu nisi consequat mollit adipisicing deserunt nulla. Ipsum nostrud et adipisicing ipsum. Deserunt sint et duis anim duis adipisicing anim quis ullamco officia. Non voluptate ex deserunt pariatur dolor id labore reprehenderit dolore commodo fugiat enim.\n",
    "\n",
    "Quis est dolore non culpa exercitation officia cillum dolore laboris dolor id adipisicing consectetur. Ullamco labore irure voluptate ex fugiat in aliqua et non sint esse Lorem id. Ad consectetur in officia esse proident elit veniam nisi nisi. Sit velit in proident anim fugiat. Elit nulla tempor fugiat consequat."
   ]
  },
  {
   "cell_type": "markdown",
   "metadata": {},
   "source": [
    "<h1 style=\"color: #f05a5b; font-family: 'Trebuchet MS', 'Lucida Sans Unicode', sans-serif; font-weight: bold;\">\n",
    "    Inflation Expectations\n",
    "</h1>"
   ]
  },
  {
   "cell_type": "markdown",
   "metadata": {},
   "source": [
    "<h3>Inflation recovery is not just dependent on CB. Households and firms' expectations about inflation affect their behaviour. Explain how this relates to CB credibility. Then have interactive widget to show how CB credibility affects optimal response. </h3>"
   ]
  },
  {
   "cell_type": "code",
   "execution_count": 13,
   "metadata": {},
   "outputs": [
    {
     "name": "stderr",
     "output_type": "stream",
     "text": [
      "Initialized with cycles: True, while workbook says: False\n"
     ]
    }
   ],
   "source": [
    "excel3 = ExcelCompiler('simple sim endog cb inflation expectations.xlsx', cycles=True)"
   ]
  },
  {
   "cell_type": "code",
   "execution_count": 14,
   "metadata": {},
   "outputs": [
    {
     "data": {
      "application/vnd.jupyter.widget-view+json": {
       "model_id": "1b6a3ea17df64919a028b9074b865cc4",
       "version_major": 2,
       "version_minor": 0
      },
      "text/plain": [
       "Output(layout=Layout(border='2px solid gray', margin='0 0 0 0', padding='5px 5px 5px 5px'))"
      ]
     },
     "metadata": {},
     "output_type": "display_data"
    },
    {
     "data": {
      "application/vnd.jupyter.widget-view+json": {
       "model_id": "27696f4b27024d5498617a9e6673d54e",
       "version_major": 2,
       "version_minor": 0
      },
      "text/plain": [
       "Output()"
      ]
     },
     "metadata": {},
     "output_type": "display_data"
    },
    {
     "data": {
      "application/vnd.jupyter.widget-view+json": {
       "model_id": "c480e905bedf4b0ea79bf0170d12ac05",
       "version_major": 2,
       "version_minor": 0
      },
      "text/plain": [
       "Output()"
      ]
     },
     "metadata": {},
     "output_type": "display_data"
    },
    {
     "data": {
      "application/vnd.jupyter.widget-view+json": {
       "model_id": "2b0133c81d5b449197b31ca77c02bdd3",
       "version_major": 2,
       "version_minor": 0
      },
      "text/plain": [
       "Output()"
      ]
     },
     "metadata": {},
     "output_type": "display_data"
    },
    {
     "data": {
      "application/vnd.jupyter.widget-view+json": {
       "model_id": "359c91bc65494027ba09da4a870ba415",
       "version_major": 2,
       "version_minor": 0
      },
      "text/plain": [
       "Output()"
      ]
     },
     "metadata": {},
     "output_type": "display_data"
    },
    {
     "data": {
      "application/vnd.jupyter.widget-view+json": {
       "model_id": "bfa7068dcceb40489b4159ac5c98ee5d",
       "version_major": 2,
       "version_minor": 0
      },
      "text/plain": [
       "Output()"
      ]
     },
     "metadata": {},
     "output_type": "display_data"
    }
   ],
   "source": [
    "out4 = widgets.Output(layout={'border': '2px solid gray', 'padding': '5px 5px 5px 5px', 'margin': '0 0 0 0'})\n",
    "display(out4)"
   ]
  },
  {
   "cell_type": "code",
   "execution_count": 22,
   "metadata": {},
   "outputs": [],
   "source": [
    "def credfunc(slider, show_benchmark):\n",
    "    # global figs, axs\n",
    "    excel3.evaluate('optimal!M8')\n",
    "    chosenrate = slider\n",
    "    excel3.set_value('optimal!M8', chosenrate)\n",
    "    excel3.recalculate()\n",
    "    after_policy = excel3.evaluate('optimal!A1:K30')\n",
    "    if show_benchmark:\n",
    "        PlotStuff([after_policy[:15], optimal_policy[:15]], title='', after=False, auto=False, legend=True)\n",
    "    else:\n",
    "        PlotStuff([after_policy[:15]], title='', after=False, auto=False)\n",
    "\n",
    "\n",
    "cred = widgets.FloatSlider(0, min=0, max=1, description='CB cred')\n",
    "benchmark = widgets.Checkbox(value=False, description='Show benchmark (cred=0)')\n",
    "outcred = widgets.interactive_output(credfunc, {'slider': cred, 'show_benchmark': benchmark})\n",
    "with out4:\n",
    "    out4.clear_output(wait=True)\n",
    "    display(cred, benchmark, outcred)"
   ]
  },
  {
   "cell_type": "markdown",
   "metadata": {},
   "source": [
    "<h1 style=\"color: #f05a5b; font-family: 'Trebuchet MS', 'Lucida Sans Unicode', sans-serif; font-weight: bold;\">\n",
    "    Test Yourself\n",
    "</h1>"
   ]
  },
  {
   "cell_type": "markdown",
   "metadata": {},
   "source": [
    "Use the information and interactive tools above to answer the questions below."
   ]
  },
  {
   "cell_type": "code",
   "execution_count": 16,
   "metadata": {},
   "outputs": [],
   "source": [
    "df = pd.read_csv('questions.csv', index_col='id')"
   ]
  },
  {
   "cell_type": "code",
   "execution_count": 17,
   "metadata": {},
   "outputs": [
    {
     "data": {
      "application/vnd.jupyter.widget-view+json": {
       "model_id": "035555be957d44789fb40bea4f22970a",
       "version_major": 2,
       "version_minor": 0
      },
      "text/plain": [
       "Output(layout=Layout(border='2px solid gray', margin='0 0 0 0', padding='5px 5px 5px 5px'))"
      ]
     },
     "metadata": {},
     "output_type": "display_data"
    }
   ],
   "source": [
    "qout = widgets.Output(layout={'border': '2px solid gray', 'padding': '5px 5px 5px 5px', 'margin': '0 0 0 0'})\n",
    "qout"
   ]
  },
  {
   "cell_type": "code",
   "execution_count": 18,
   "metadata": {},
   "outputs": [],
   "source": [
    "qs = {}\n",
    "ans = {}\n",
    "msgs = {}\n",
    "\n",
    "for i in df.index:\n",
    "    qs[i] = [df.loc[i]['question'], df.loc[i]['c1'], df.loc[i]['c2'], df.loc[i]['c3']]\n",
    "    ans[i] = [df.loc[i]['a1'], df.loc[i]['a2'], df.loc[i]['a3']]\n",
    "    msgs[i] = {'correct': df.loc[i]['correctmessage'], 'incorrect': df.loc[i]['incorrectmessage']}\n",
    "\n",
    "wlist = {}\n",
    "for q in qs:\n",
    "    wlist[q] = [qs[q][0]]\n",
    "    for i in range(1, 4):\n",
    "        wlist[q].append(widgets.Checkbox(description=qs[q][i]))\n",
    "\n",
    "qout.clear_output()\n",
    "qsub = widgets.Button(description='Submit')\n",
    "\n",
    "\n",
    "with qout:\n",
    "    for q in wlist:\n",
    "        display(widgets.HTML(value=f'<p>{wlist[q][0]}</p>'))\n",
    "        for i in wlist[q][1:]:\n",
    "            display(i)\n",
    "        # print()\n",
    "    display(qsub)\n",
    "\n",
    "\n",
    "def on_qsub(b):\n",
    "    global ans\n",
    "    global msgs\n",
    "    qout.clear_output(wait=True)\n",
    "    messages = {}\n",
    "    for q in wlist:\n",
    "        answers = []\n",
    "        for i in wlist[q][1:]:\n",
    "            answers.append(i.value)\n",
    "        if answers == ans[q]:\n",
    "            messages[q] = msgs[q]['correct']\n",
    "        else:\n",
    "            messages[q] = msgs[q]['incorrect']\n",
    "    with qout:\n",
    "        # print('submitted')\n",
    "        for q in wlist:\n",
    "            display(widgets.HTML(value=f'<p>{wlist[q][0]}</p>'))\n",
    "            for i in wlist[q][1:]:\n",
    "                display(i)\n",
    "            display(widgets.HTML(f'<p style=\"font-weight: bold;\">{messages[q]}</p>'))\n",
    "        display(qsub)\n",
    "\n",
    "qsub.on_click(on_qsub)"
   ]
  },
  {
   "cell_type": "code",
   "execution_count": null,
   "metadata": {},
   "outputs": [],
   "source": []
  }
 ],
 "metadata": {
  "kernelspec": {
   "display_name": "Python 3.10.5 64-bit",
   "language": "python",
   "name": "python3"
  },
  "language_info": {
   "codemirror_mode": {
    "name": "ipython",
    "version": 3
   },
   "file_extension": ".py",
   "mimetype": "text/x-python",
   "name": "python",
   "nbconvert_exporter": "python",
   "pygments_lexer": "ipython3",
   "version": "3.10.5"
  },
  "orig_nbformat": 4,
  "vscode": {
   "interpreter": {
    "hash": "bfb951cf4239d7e9a21639cd3f6aff722a5dd9312a453e687af2125473e9531c"
   }
  }
 },
 "nbformat": 4,
 "nbformat_minor": 2
}

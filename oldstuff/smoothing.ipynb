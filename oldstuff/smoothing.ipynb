{
 "cells": [
  {
   "cell_type": "markdown",
   "metadata": {},
   "source": [
    "# INTEREST RATE DOESN'T WORK STILL\n",
    "\n",
    "set r = 0 for all cases"
   ]
  },
  {
   "cell_type": "code",
   "execution_count": 1,
   "metadata": {},
   "outputs": [],
   "source": [
    "##### sim\n",
    "import random\n",
    "import matplotlib.pyplot as plt\n",
    "\n",
    "def getConsumption(assets: float, expectedincomepath: list, periodevaluated: int, interestrate: float) -> float:\n",
    "    # print(assets)\n",
    "    restoflife = expectedincomepath[periodevaluated-1: ]\n",
    "    incomesum = sum(restoflife)\n",
    "    lifetimeincome = assets + incomesum\n",
    "    c1 = lifetimeincome / len(restoflife)\n",
    "    interestsum = 0\n",
    "    for y in restoflife:\n",
    "        interest = interestrate * (y - c1)\n",
    "        interestsum += interest\n",
    "    c1 += (interestsum / len(restoflife))\n",
    "    return round(c1, 4)\n",
    "\n",
    "class Smoothing():\n",
    "    def __init__(self, INCOME_PER_PERIOD, PERIODS, ASSETS, R) -> None:\n",
    "        self.PERIODS = PERIODS\n",
    "        self.R = R\n",
    "\n",
    "        randis = random.sample(range(75, 125, 5), k=3)\n",
    "        randpsexpected = random.sample(range(2, 7), k=2)\n",
    "        randpsunexpected = random.sample(range(7, 11), k=1)\n",
    "\n",
    "        expected = {randpsexpected[0]: randis[0], randpsexpected[1]: randis[1]}\n",
    "        unexpected = {randpsunexpected[0]: randis[2]} \n",
    "        unexpectedperiods = list(unexpected.keys())\n",
    "        \n",
    "        initialincomepath = []\n",
    "        for i in range(PERIODS):\n",
    "            initialincomepath.append(INCOME_PER_PERIOD)\n",
    "        for i in expected:\n",
    "            initialincomepath[i-1] = expected[i]\n",
    "\n",
    "        expectedincomepath = initialincomepath.copy()\n",
    "\n",
    "        period = 1\n",
    "        assetpath = [ASSETS]\n",
    "        assets = ASSETS\n",
    "        consumptionpath = []\n",
    "        consumption = getConsumption(assets, expectedincomepath, period, R)\n",
    "        while period <= PERIODS:\n",
    "            assets = assets * (1+R)\n",
    "            if period in unexpectedperiods:\n",
    "                expectedincomepath[period-1] = unexpected[period]\n",
    "            consumption = getConsumption(assets, expectedincomepath, period, R)\n",
    "            assetpath.append(expectedincomepath[period-1] - consumption)\n",
    "            consumptionpath.append(consumption)\n",
    "            assets = sum(assetpath)\n",
    "            period += 1\n",
    "\n",
    "        self.initialincomepath = initialincomepath\n",
    "        self.expectedincomepath = expectedincomepath\n",
    "        self.consumptionpath = consumptionpath\n",
    "        self.assetpath = assetpath\n",
    "        self.expected = expected\n",
    "        self.unexpected = unexpected\n",
    "\n",
    "\n",
    "    def PrintStuff(self) -> None:\n",
    "        print(f'Rate of Interest: {self.R * 100}%')\n",
    "        print('Initial income path: ', self.initialincomepath)\n",
    "        print('Expected Shocks (period: shock income): ', self.expected)\n",
    "        print('Unexpected Shocks (period: shock income): ', self.unexpected)\n",
    "        print('Actual income path: ', self.expectedincomepath)\n",
    "        print('Consumption Path: ', self.consumptionpath)\n",
    "        print('Asset path: ', self.assetpath)\n",
    "        print('Sum of consumption: ', round(sum(self.consumptionpath)))\n",
    "        print('Sum of assets: ', round(sum(self.assetpath)))\n",
    "\n",
    "    def PlotStuff(self):\n",
    "        index = 0\n",
    "        while index < (self.PERIODS):\n",
    "            plt.plot([index, index+1], [self.expectedincomepath[index], self.expectedincomepath[index]], c='b')\n",
    "            plt.plot([index, index+1], [self.initialincomepath[index], self.initialincomepath[index]], c='g')\n",
    "            plt.plot([index, index+1], [self.consumptionpath[index], self.consumptionpath[index]], c='r')\n",
    "            \n",
    "            if index != (self.PERIODS - 1):\n",
    "                plt.plot([index+1, index+1], [self.expectedincomepath[index], self.expectedincomepath[index+1]], c='gray')\n",
    "                plt.plot([index+1, index+1], [self.initialincomepath[index], self.initialincomepath[index+1]], c='gray')\n",
    "                plt.plot([index+1, index+1], [self.consumptionpath[index], self.consumptionpath[index+1]], c='gray')\n",
    "            index+=1\n",
    "\n",
    "        plt.show()"
   ]
  },
  {
   "cell_type": "code",
   "execution_count": 2,
   "metadata": {},
   "outputs": [],
   "source": [
    "import ipywidgets as widgets"
   ]
  },
  {
   "cell_type": "code",
   "execution_count": 3,
   "metadata": {},
   "outputs": [
    {
     "data": {
      "application/vnd.jupyter.widget-view+json": {
       "model_id": "f54714cc3bdd4d9bb5aaa087659e141c",
       "version_major": 2,
       "version_minor": 0
      },
      "text/plain": [
       "Output(layout=Layout(border='2px solid gray', margin='0 0 0 0', padding='5px 5px 5px 5px'))"
      ]
     },
     "metadata": {},
     "output_type": "display_data"
    }
   ],
   "source": [
    "out = widgets.Output(layout={'border': '2px solid gray', 'padding': '5px 5px 5px 5px', 'margin': '0 0 0 0'})\n",
    "out"
   ]
  },
  {
   "cell_type": "code",
   "execution_count": 4,
   "metadata": {},
   "outputs": [],
   "source": [
    "inc = widgets.IntSlider(description='Income Per Period', value=100, min=50, max=150)\n",
    "ass = widgets.IntSlider(description='Initial Assets', value=0, min=-50, max=50)\n",
    "r = widgets.IntSlider(description='Interest Rate', value=0, min=0, max=25)\n",
    "seed = widgets.IntText(value=random.randint(0, 10000), description='random seed')\n",
    "sub = widgets.Button(description='Submit')\n",
    "\n",
    "random.seed(seed.value)\n",
    "\n",
    "with out:\n",
    "    out.clear_output(wait=True)\n",
    "    display(inc, ass, r, seed, sub)\n",
    "\n",
    "def on_sub(b):\n",
    "    out.clear_output(wait=True)\n",
    "    random.seed(seed.value)\n",
    "    sim = Smoothing(inc.value, 10, ass.value, 0.01 * r.value)\n",
    "    with out:\n",
    "        display(inc, ass, r, seed, sub)\n",
    "        sim.PrintStuff()\n",
    "        sim.PlotStuff()\n",
    "\n",
    "sub.on_click(on_sub)"
   ]
  },
  {
   "cell_type": "code",
   "execution_count": null,
   "metadata": {},
   "outputs": [],
   "source": []
  }
 ],
 "metadata": {
  "kernelspec": {
   "display_name": "Python 3.10.5 64-bit",
   "language": "python",
   "name": "python3"
  },
  "language_info": {
   "codemirror_mode": {
    "name": "ipython",
    "version": 3
   },
   "file_extension": ".py",
   "mimetype": "text/x-python",
   "name": "python",
   "nbconvert_exporter": "python",
   "pygments_lexer": "ipython3",
   "version": "3.10.5"
  },
  "orig_nbformat": 4,
  "vscode": {
   "interpreter": {
    "hash": "bfb951cf4239d7e9a21639cd3f6aff722a5dd9312a453e687af2125473e9531c"
   }
  }
 },
 "nbformat": 4,
 "nbformat_minor": 2
}

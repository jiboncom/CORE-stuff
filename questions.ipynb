{
 "cells": [
  {
   "cell_type": "code",
   "execution_count": 12,
   "metadata": {},
   "outputs": [],
   "source": [
    "import ipywidgets as widgets\n",
    "import pandas as pd\n",
    "df = pd.read_csv('samplequestions.csv', index_col='id')"
   ]
  },
  {
   "cell_type": "code",
   "execution_count": 13,
   "metadata": {},
   "outputs": [
    {
     "data": {
      "application/vnd.jupyter.widget-view+json": {
       "model_id": "c38a2cad3abe46a398be9b1c4ea903dc",
       "version_major": 2,
       "version_minor": 0
      },
      "text/plain": [
       "Output(layout=Layout(border='2px solid gray'))"
      ]
     },
     "metadata": {},
     "output_type": "display_data"
    }
   ],
   "source": [
    "out = widgets.Output(layout={'border': '2px solid gray'})\n",
    "out"
   ]
  },
  {
   "cell_type": "code",
   "execution_count": 14,
   "metadata": {},
   "outputs": [],
   "source": [
    "qs = {}\n",
    "ans = {}\n",
    "msgs = {}\n",
    "\n",
    "for i in df.index:\n",
    "    qs[i] = [df.loc[i]['question'], df.loc[i]['c1'], df.loc[i]['c2'], df.loc[i]['c3']]\n",
    "    ans[i] = [df.loc[i]['a1'], df.loc[i]['a2'], df.loc[i]['a3']]\n",
    "    msgs[i] = {'correct': df.loc[i]['correctmessage'], 'incorrect': df.loc[i]['incorrectmessage']}\n",
    "\n",
    "wlist = {}\n",
    "for q in qs:\n",
    "    wlist[q] = [qs[q][0]]\n",
    "    for i in range(1, 4):\n",
    "        wlist[q].append(widgets.Checkbox(description=qs[q][i]))\n",
    "\n",
    "out.clear_output()\n",
    "sub = widgets.Button(description='Submit')\n",
    "\n",
    "\n",
    "with out:\n",
    "    for q in wlist:\n",
    "        display(widgets.HTML(value=f'<p>{wlist[q][0]}</p>'))\n",
    "        for i in wlist[q][1:]:\n",
    "            display(i)\n",
    "        print()\n",
    "    display(sub)\n",
    "\n",
    "\n",
    "def on_sub(b):\n",
    "    global ans\n",
    "    global msgs\n",
    "    out.clear_output(wait=True)\n",
    "    messages = {}\n",
    "    for q in wlist:\n",
    "        answers = []\n",
    "        for i in wlist[q][1:]:\n",
    "            answers.append(i.value)\n",
    "        if answers == ans[q]:\n",
    "            messages[q] = msgs[q]['correct']\n",
    "        else:\n",
    "            messages[q] = msgs[q]['incorrect']\n",
    "    with out:\n",
    "        # print('submitted')\n",
    "        for q in wlist:\n",
    "            print()\n",
    "            display(widgets.HTML(value=f'<p>{wlist[q][0]}</p>'))\n",
    "            for i in wlist[q][1:]:\n",
    "                display(i)\n",
    "            print()\n",
    "            print(messages[q])\n",
    "        display(sub)\n",
    "\n",
    "sub.on_click(on_sub)\n"
   ]
  },
  {
   "cell_type": "code",
   "execution_count": null,
   "metadata": {},
   "outputs": [],
   "source": []
  }
 ],
 "metadata": {
  "kernelspec": {
   "display_name": "Python 3.9.6 64-bit",
   "language": "python",
   "name": "python3"
  },
  "language_info": {
   "codemirror_mode": {
    "name": "ipython",
    "version": 3
   },
   "file_extension": ".py",
   "mimetype": "text/x-python",
   "name": "python",
   "nbconvert_exporter": "python",
   "pygments_lexer": "ipython3",
   "version": "3.9.6"
  },
  "orig_nbformat": 4,
  "vscode": {
   "interpreter": {
    "hash": "2357eebbfc55f7d9fdf64c15a4b3c374b9e372aa3c4f8ecba863e07056cff31d"
   }
  }
 },
 "nbformat": 4,
 "nbformat_minor": 2
}
